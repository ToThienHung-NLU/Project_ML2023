{
  "cells": [
    {
      "cell_type": "code",
      "execution_count": null,
      "metadata": {
        "id": "ngoKIAtwAzq1"
      },
      "outputs": [],
      "source": [
        "import tensorflow as tf\n",
        "from tensorflow import keras\n",
        "import matplotlib.pyplot as plt\n",
        "import numpy as np\n",
        "from keras.preprocessing.image import ImageDataGenerator\n",
        "from keras.models import Sequential\n",
        "from keras.layers import Dense, Dropout, Flatten\n",
        "from keras.layers import Conv2D, MaxPooling2D\n",
        "import os\n",
        "from matplotlib import pyplot as plt\n",
        "import numpy as np\n",
        "from tensorflow.keras.models import Sequential\n",
        "from tensorflow.keras.layers import Conv2D\n",
        "from sklearn.metrics import accuracy_score, precision_score, recall_score, f1_score\n",
        "from sklearn import svm\n",
        "from sklearn.tree import DecisionTreeClassifier\n"
      ]
    },
    {
      "cell_type": "code",
      "execution_count": null,
      "metadata": {
        "id": "WxbUZWa9GK7U"
      },
      "outputs": [],
      "source": [
        "IMG_HEIGHT=48\n",
        "IMG_WIDTH=48\n",
        "batch_size=32"
      ]
    },
    {
      "cell_type": "code",
      "execution_count": null,
      "metadata": {
        "colab": {
          "base_uri": "https://localhost:8080/"
        },
        "id": "Hyqvd0i0A4te",
        "outputId": "ee3f1294-360f-4ed6-e02b-556ebfc313f3"
      },
      "outputs": [
        {
          "name": "stdout",
          "output_type": "stream",
          "text": [
            "Mounted at /content/drive\n"
          ]
        }
      ],
      "source": [
        " \n",
        "\n",
        "from google.colab import drive\n",
        "drive.mount('/content/drive')\n",
        " \n"
      ]
    },
    {
      "cell_type": "code",
      "execution_count": null,
      "metadata": {
        "id": "mK6v6Yu8A5CL"
      },
      "outputs": [],
      "source": [
        "import os\n",
        "train_image_files_path = \"/content/drive/MyDrive/dataset/dataset/train/\"\n",
        "test_image_files_path = \"/content/drive/MyDrive/dataset/dataset/test/\"\n",
        "valid_image_files_path = \"/content/drive/MyDrive/dataset/dataset/validation/\"\n"
      ]
    },
    {
      "cell_type": "code",
      "execution_count": null,
      "metadata": {
        "colab": {
          "base_uri": "https://localhost:8080/"
        },
        "id": "rgf7IFMlBB0D",
        "outputId": "dfc48892-abef-4849-aafb-184b14f4403b"
      },
      "outputs": [
        {
          "name": "stdout",
          "output_type": "stream",
          "text": [
            "Found 1510 images belonging to 7 classes.\n",
            "Found 1411 images belonging to 7 classes.\n"
          ]
        }
      ],
      "source": [
        "train_datagen = ImageDataGenerator(\n",
        "    rescale = 1./255,\n",
        "    rotation_range = 30,\n",
        "    shear_range = 0.3,\n",
        "    zoom_range = 0.3,\n",
        "    horizontal_flip = True,\n",
        "    fill_mode ='nearest')\n",
        "\n",
        "validation_datagen = ImageDataGenerator(rescale = 1./255)\n",
        "\n",
        "train_generator = train_datagen.flow_from_directory(\n",
        "    train_image_files_path,\n",
        "    color_mode ='grayscale',\n",
        "    target_size =(IMG_HEIGHT, IMG_WIDTH),\n",
        "    batch_size = batch_size,\n",
        "    class_mode = 'categorical',\n",
        "    shuffle = True)\n",
        "\n",
        "validation_generator = validation_datagen.flow_from_directory(\n",
        "    test_image_files_path,\n",
        "    color_mode ='grayscale',\n",
        "    target_size =(IMG_HEIGHT, IMG_WIDTH),\n",
        "    batch_size = batch_size,\n",
        "    class_mode = 'categorical',\n",
        "    shuffle = True)\n"
      ]
    },
    {
      "cell_type": "code",
      "execution_count": null,
      "metadata": {
        "colab": {
          "base_uri": "https://localhost:8080/",
          "height": 452
        },
        "id": "qSqG-ZpZLmTL",
        "outputId": "16a5d607-7f6c-4a08-9447-94a39dadc655"
      },
      "outputs": [
        {
          "data": {
            "image/png": "[encoded data removed]",
            "text/plain": [
              "<Figure size 640x480 with 1 Axes>"
            ]
          },
          "metadata": {},
          "output_type": "display_data"
        }
      ],
      "source": [
        "class_labels =['Angry', 'Disgust', 'Fear', 'Happy', 'Neutral', 'Surprise']\n",
        "\n",
        "img, label = train_generator.__next__()\n",
        "\n",
        "import random\n",
        "\n",
        "i=random.randint(0, (img.shape[0])-1)\n",
        "image = img[i]\n",
        "labl = class_labels[label[i].argmax()]\n",
        "plt.imshow(image[:,:,0], cmap='gray')\n",
        "plt.title(labl)\n",
        "plt.show()"
      ]
    },
    {
      "cell_type": "code",
      "execution_count": null,
      "metadata": {
        "id": "yM9JwAEZNXAw"
      },
      "outputs": [],
      "source": [
        "#crate the model\n",
        "\n",
        "model = Sequential()\n",
        "\n",
        "model.add(Conv2D(32, kernel_size=(3, 3), activation='relu', input_shape=(48,48,1)))\n",
        "\n",
        "model.add(Conv2D(64, kernel_size=(3, 3), activation='relu'))\n",
        "model.add(MaxPooling2D(pool_size=(2,2)))\n",
        "model.add(Dropout(0.1))\n",
        "\n",
        "model.add(Conv2D(128, kernel_size=(3, 3), activation='relu'))\n",
        "model.add(MaxPooling2D(pool_size=(2,2)))\n",
        "model.add(Dropout(0.1))\n",
        "\n",
        "model.add(Conv2D(256, kernel_size=(3, 3), activation='relu'))\n",
        "model.add(MaxPooling2D(pool_size=(2,2)))\n",
        "model.add(Dropout(0.1)) # lớp dropout này ngăn chặn overfitting\n",
        "\n",
        "model.add(Flatten())\n",
        "model.add(Dense(512, activation= 'relu')) # lớp kết nối đầy đủ với 512 đơn vị và hàm kích hoạt relu\n",
        "model.add(Dropout(0.2)) # Lớp phẳng hóa để chuyển hóa đầu vào từ mảng 2 chìu thành mảng 1 chìu\n",
        "\n",
        "model.add(Dense(7, activation= 'softmax')) \n",
        "# lớp kết nối đầy đủ cuối cùng với 7 đơn vị( tương ứng với số lớp cần phân loại) và hàm kích hoạt softmax\n",
        "\n",
        "\n",
        "model.compile(optimizer = 'adam', loss ='categorical_crossentropy', metrics=['accuracy'] )\n",
        "# định nghĩa hàm mất mát và phương thức tối ưu hóa cho mô hình\n",
        "\n",
        "train_path = \"/content/drive/MyDrive/dataset/dataset/train/\"\n",
        "test_path =  \"/content/drive/MyDrive/dataset/dataset/test/\"\n",
        "\n",
        "num_train_imgs = 0 # số lượng ảnh có sẵn\n",
        "for root, dirs, files in os.walk(train_path):\n",
        "    num_train_imgs += len(files)\n",
        "\n",
        "num_test_imgs = 0   \n",
        "for root, dirs, files in os.walk(test_path):\n",
        "    num_test_imgs += len(files)\n",
        "\n"
      ]
    },
    {
      "cell_type": "code",
      "execution_count": null,
      "metadata": {
        "colab": {
          "base_uri": "https://localhost:8080/"
        },
        "id": "EJlfOWGOYkqY",
        "outputId": "825daa2c-8c71-437e-9b4d-92e0997c3a9c"
      },
      "outputs": [
        {
          "name": "stdout",
          "output_type": "stream",
          "text": [
            "Epoch 1/50\n",
            "47/47 [==============================] - 589s 13s/step - loss: 1.9556 - accuracy: 0.1218 - val_loss: 1.9471 - val_accuracy: 0.1477\n",
            "Epoch 2/50\n",
            "47/47 [==============================] - 22s 468ms/step - loss: 1.9466 - accuracy: 0.1360 - val_loss: 1.9458 - val_accuracy: 0.1463\n",
            "Epoch 3/50\n",
            "47/47 [==============================] - 22s 467ms/step - loss: 1.9461 - accuracy: 0.1441 - val_loss: 1.9457 - val_accuracy: 0.1470\n",
            "Epoch 4/50\n",
            "47/47 [==============================] - 22s 474ms/step - loss: 1.9462 - accuracy: 0.1441 - val_loss: 1.9465 - val_accuracy: 0.1477\n",
            "Epoch 5/50\n",
            "47/47 [==============================] - 23s 481ms/step - loss: 1.9463 - accuracy: 0.1380 - val_loss: 1.9462 - val_accuracy: 0.1477\n",
            "Epoch 6/50\n",
            "47/47 [==============================] - 23s 484ms/step - loss: 1.9462 - accuracy: 0.1428 - val_loss: 1.9472 - val_accuracy: 0.0788\n",
            "Epoch 7/50\n",
            "47/47 [==============================] - 22s 480ms/step - loss: 1.9475 - accuracy: 0.1272 - val_loss: 1.9454 - val_accuracy: 0.1456\n",
            "Epoch 8/50\n",
            "47/47 [==============================] - 22s 477ms/step - loss: 1.9467 - accuracy: 0.1346 - val_loss: 1.9458 - val_accuracy: 0.1918\n",
            "Epoch 9/50\n",
            "47/47 [==============================] - 22s 461ms/step - loss: 1.9463 - accuracy: 0.1286 - val_loss: 1.9462 - val_accuracy: 0.0788\n",
            "Epoch 10/50\n",
            "47/47 [==============================] - 22s 474ms/step - loss: 1.9464 - accuracy: 0.1306 - val_loss: 1.9461 - val_accuracy: 0.1293\n",
            "Epoch 11/50\n",
            "47/47 [==============================] - 22s 468ms/step - loss: 1.9463 - accuracy: 0.1299 - val_loss: 1.9458 - val_accuracy: 0.1286\n",
            "Epoch 12/50\n",
            "47/47 [==============================] - 23s 488ms/step - loss: 1.9461 - accuracy: 0.1387 - val_loss: 1.9457 - val_accuracy: 0.1911\n",
            "Epoch 13/50\n",
            "47/47 [==============================] - 23s 483ms/step - loss: 1.9462 - accuracy: 0.1367 - val_loss: 1.9462 - val_accuracy: 0.1562\n",
            "Epoch 14/50\n",
            "47/47 [==============================] - 23s 484ms/step - loss: 1.9462 - accuracy: 0.1401 - val_loss: 1.9459 - val_accuracy: 0.1555\n",
            "Epoch 15/50\n",
            "47/47 [==============================] - 22s 471ms/step - loss: 1.9461 - accuracy: 0.1286 - val_loss: 1.9455 - val_accuracy: 0.1470\n",
            "Epoch 16/50\n",
            "47/47 [==============================] - 22s 467ms/step - loss: 1.9463 - accuracy: 0.1401 - val_loss: 1.9453 - val_accuracy: 0.1555\n",
            "Epoch 17/50\n",
            "47/47 [==============================] - 23s 482ms/step - loss: 1.9462 - accuracy: 0.1258 - val_loss: 1.9454 - val_accuracy: 0.1477\n",
            "Epoch 18/50\n",
            "47/47 [==============================] - 23s 487ms/step - loss: 1.9462 - accuracy: 0.1394 - val_loss: 1.9456 - val_accuracy: 0.1555\n",
            "Epoch 19/50\n",
            "47/47 [==============================] - 22s 459ms/step - loss: 1.9462 - accuracy: 0.1252 - val_loss: 1.9459 - val_accuracy: 0.1293\n",
            "Epoch 20/50\n",
            "47/47 [==============================] - 22s 476ms/step - loss: 1.9461 - accuracy: 0.1488 - val_loss: 1.9459 - val_accuracy: 0.1562\n",
            "Epoch 21/50\n",
            "47/47 [==============================] - 22s 459ms/step - loss: 1.9462 - accuracy: 0.1434 - val_loss: 1.9462 - val_accuracy: 0.1562\n",
            "Epoch 22/50\n",
            "47/47 [==============================] - 23s 482ms/step - loss: 1.9462 - accuracy: 0.1380 - val_loss: 1.9465 - val_accuracy: 0.0788\n",
            "Epoch 23/50\n",
            "47/47 [==============================] - 22s 461ms/step - loss: 1.9461 - accuracy: 0.1367 - val_loss: 1.9471 - val_accuracy: 0.0788\n",
            "Epoch 24/50\n",
            "47/47 [==============================] - 23s 480ms/step - loss: 1.9461 - accuracy: 0.1333 - val_loss: 1.9468 - val_accuracy: 0.1463\n",
            "Epoch 25/50\n",
            "47/47 [==============================] - 21s 458ms/step - loss: 1.9463 - accuracy: 0.1387 - val_loss: 1.9462 - val_accuracy: 0.1456\n",
            "Epoch 26/50\n",
            "47/47 [==============================] - 23s 482ms/step - loss: 1.9462 - accuracy: 0.1333 - val_loss: 1.9455 - val_accuracy: 0.1463\n",
            "Epoch 27/50\n",
            "47/47 [==============================] - 22s 477ms/step - loss: 1.9461 - accuracy: 0.1416 - val_loss: 1.9456 - val_accuracy: 0.1456\n",
            "Epoch 28/50\n",
            "47/47 [==============================] - 22s 478ms/step - loss: 1.9461 - accuracy: 0.1380 - val_loss: 1.9458 - val_accuracy: 0.1456\n",
            "Epoch 29/50\n",
            "47/47 [==============================] - 22s 467ms/step - loss: 1.9460 - accuracy: 0.1360 - val_loss: 1.9460 - val_accuracy: 0.1456\n",
            "Epoch 30/50\n",
            "47/47 [==============================] - 22s 480ms/step - loss: 1.9462 - accuracy: 0.1353 - val_loss: 1.9459 - val_accuracy: 0.1456\n",
            "Epoch 31/50\n",
            "47/47 [==============================] - 23s 481ms/step - loss: 1.9462 - accuracy: 0.1401 - val_loss: 1.9461 - val_accuracy: 0.1463\n",
            "Epoch 32/50\n",
            "47/47 [==============================] - 21s 457ms/step - loss: 1.9461 - accuracy: 0.1414 - val_loss: 1.9460 - val_accuracy: 0.1463\n",
            "Epoch 33/50\n",
            "47/47 [==============================] - 23s 495ms/step - loss: 1.9461 - accuracy: 0.1403 - val_loss: 1.9462 - val_accuracy: 0.1463\n",
            "Epoch 34/50\n",
            "47/47 [==============================] - 22s 462ms/step - loss: 1.9461 - accuracy: 0.1421 - val_loss: 1.9464 - val_accuracy: 0.1456\n",
            "Epoch 35/50\n",
            "47/47 [==============================] - 23s 482ms/step - loss: 1.9462 - accuracy: 0.1319 - val_loss: 1.9456 - val_accuracy: 0.1911\n",
            "Epoch 36/50\n",
            "47/47 [==============================] - 23s 489ms/step - loss: 1.9462 - accuracy: 0.1319 - val_loss: 1.9458 - val_accuracy: 0.1477\n",
            "Epoch 37/50\n",
            "47/47 [==============================] - 23s 485ms/step - loss: 1.9461 - accuracy: 0.1204 - val_loss: 1.9462 - val_accuracy: 0.0788\n",
            "Epoch 38/50\n",
            "47/47 [==============================] - 23s 490ms/step - loss: 1.9462 - accuracy: 0.1243 - val_loss: 1.9460 - val_accuracy: 0.1293\n",
            "Epoch 39/50\n",
            "47/47 [==============================] - 27s 587ms/step - loss: 1.9460 - accuracy: 0.1306 - val_loss: 1.9459 - val_accuracy: 0.1918\n",
            "Epoch 40/50\n",
            "47/47 [==============================] - 24s 509ms/step - loss: 1.9460 - accuracy: 0.1353 - val_loss: 1.9461 - val_accuracy: 0.0788\n",
            "Epoch 41/50\n",
            "47/47 [==============================] - 24s 498ms/step - loss: 1.9461 - accuracy: 0.1191 - val_loss: 1.9459 - val_accuracy: 0.1477\n",
            "Epoch 42/50\n",
            "47/47 [==============================] - ETA: 0s - loss: 1.9461 - accuracy: 0.1069"
          ]
        }
      ],
      "source": [
        "epochs = 50\n",
        "\n",
        "history = model.fit(train_generator,\n",
        "                    steps_per_epoch=num_train_imgs//batch_size,\n",
        "                    epochs=epochs,\n",
        "                    validation_data=validation_generator,\n",
        "                    validation_steps=num_test_imgs//batch_size)\n",
        "\n",
        "model.save('emotion_dectection_model_100epochs.h5')\n",
        "\n"
      ]
    },
    {
      "cell_type": "code",
      "execution_count": null,
      "metadata": {
        "colab": {
          "background_save": true
        },
        "id": "9ckrdDs4-gDc"
      },
      "outputs": [],
      "source": [
        "\n",
        "from google.colab import files\n",
        "\n",
        "uploaded = files.upload()\n",
        "\n",
        "label = np.array(class_labels)\n",
        "\n",
        "for fn in uploaded.keys():\n",
        "  #predicting images\n",
        "  path='/content/'+fn\n",
        "  #In anh doc duoc\n",
        "  plt.imshow(mpimg.imread(path))\n",
        "\n",
        "  img=Image.open(path).resize((48,48))\n",
        "  x=np.array(img)\n",
        "  x=np.expand_dims(x,axis=0)\n",
        "  images=np.vstack([x])\n",
        "  y_predict = model.predict(images,batch_size=5)\n",
        "  print(y_predict)\n",
        "  print('Gia tri du doan la :', label[np.argmax(y_predict)])\n"
      ]
    },
    {
      "cell_type": "code",
      "execution_count": null,
      "metadata": {
        "colab": {
          "base_uri": "https://localhost:8080/"
        },
        "id": "MYmMZc0q-v7u",
        "outputId": "87a65a8a-9213-4ffd-f5e7-3f47ea02955d"
      },
      "outputs": [
        {
          "name": "stdout",
          "output_type": "stream",
          "text": [
            "Looking in indexes: https://pypi.org/simple, https://us-python.pkg.dev/colab-wheels/public/simple/\n",
            "Requirement already satisfied: Pillow in /usr/local/lib/python3.10/dist-packages (8.4.0)\n"
          ]
        }
      ],
      "source": [
        "!pip install Pillow"
      ]
    },
    {
      "cell_type": "code",
      "execution_count": null,
      "metadata": {
        "colab": {
          "base_uri": "https://localhost:8080/"
        },
        "id": "cMpmtUN5xdU5",
        "outputId": "723e0b2a-cb9d-40d0-d414-b2870dfb48bc"
      },
      "outputs": [
        {
          "name": "stdout",
          "output_type": "stream",
          "text": [
            "Accuracy: 0.8526785714285714\n",
            "Precision: (0.14285714285714285,)\n",
            "recall: (0.02040816326530612,)\n",
            "f1: (0.03571428571428571,)\n"
          ]
        },
        {
          "name": "stderr",
          "output_type": "stream",
          "text": [
            "/usr/local/lib/python3.10/dist-packages/sklearn/metrics/_classification.py:1344: UndefinedMetricWarning: Precision is ill-defined and being set to 0.0 in labels with no predicted samples. Use `zero_division` parameter to control this behavior.\n",
            "  _warn_prf(average, modifier, msg_start, len(result))\n"
          ]
        }
      ],
      "source": [
        "#KNN\n",
        "\n",
        "X_train = train_generator[0][0]\n",
        "y_train = train_generator[0][1]\n",
        "X_val = validation_generator[0][0]\n",
        "y_val = validation_generator[0][1]\n",
        "\n",
        "X_train = X_train.reshape(X_train.shape[0], -1)\n",
        "X_val = X_val.reshape(X_val.shape[0], -1)\n",
        "X_train = X_train / 255.0\n",
        "X_val = X_val / 255.0\n",
        "\n",
        "from sklearn.neighbors import KNeighborsClassifier\n",
        "\n",
        "k = 5  # Số láng giềng K\n",
        "knn = KNeighborsClassifier(n_neighbors=k)\n",
        "knn.fit(X_train, y_train)\n",
        "\n",
        "y_pred = knn.predict(X_val)\n",
        "accuracy = np.mean(y_pred == y_val)\n",
        "print(\"Accuracy:\", accuracy)\n",
        "\n",
        "from sklearn.metrics import precision_score\n",
        "\n",
        "precision = precision_score(y_val, y_pred, average='macro'),\n",
        "print(\"Precision:\", precision)\n",
        "recall = recall_score(y_val, y_pred, average='macro'),\n",
        "print(\"recall:\", recall)\n",
        "f1= f1_score(y_val, y_pred, average='macro'),\n",
        "print(\"f1:\", f1)"
      ]
    },
    {
      "cell_type": "code",
      "execution_count": null,
      "metadata": {
        "colab": {
          "base_uri": "https://localhost:8080/"
        },
        "id": "eDHdn90Z7GnN",
        "outputId": "6e14bed8-9bd0-43e2-e88a-4e675504b01d"
      },
      "outputs": [
        {
          "name": "stdout",
          "output_type": "stream",
          "text": [
            "Accuracy: 0.8080357142857143\n",
            "Precision: 0.13095238095238096\n",
            "Recall: 0.1768707482993197\n",
            "F1-score: 0.14285714285714285\n"
          ]
        },
        {
          "name": "stderr",
          "output_type": "stream",
          "text": [
            "/usr/local/lib/python3.10/dist-packages/sklearn/metrics/_classification.py:1344: UndefinedMetricWarning: Precision is ill-defined and being set to 0.0 in labels with no predicted samples. Use `zero_division` parameter to control this behavior.\n",
            "  _warn_prf(average, modifier, msg_start, len(result))\n"
          ]
        }
      ],
      "source": [
        "#Decision Tree\n",
        "\n",
        "from sklearn.tree import DecisionTreeClassifier\n",
        "from sklearn.metrics import precision_score, recall_score, f1_score\n",
        "\n",
        "tree = DecisionTreeClassifier(criterion=\"gini\", random_state=42, max_depth=3, min_samples_leaf=5)\n",
        "tree.fit(X_train, y_train)\n",
        "\n",
        "y_pred = tree.predict(X_val)\n",
        "accuracy = np.mean(y_pred == y_val)\n",
        "print(\"Accuracy:\", accuracy)\n",
        "\n",
        "precision = precision_score(y_val, y_pred, average='macro')\n",
        "print(\"Precision:\", precision)\n",
        "\n",
        "recall = recall_score(y_val, y_pred, average='macro')\n",
        "print(\"Recall:\", recall)\n",
        "\n",
        "f1 = f1_score(y_val, y_pred, average='macro')\n",
        "print(\"F1-score:\", f1)\n"
      ]
    }
  ],
  "metadata": {
    "colab": {
      "provenance": []
    },
    "kernelspec": {
      "display_name": "Python 3",
      "name": "python3"
    },
    "language_info": {
      "name": "python"
    }
  },
  "nbformat": 4,
  "nbformat_minor": 0
}